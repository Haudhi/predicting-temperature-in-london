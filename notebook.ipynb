{
 "cells": [
  {
   "cell_type": "markdown",
   "id": "42a0676a-ba47-4e32-93f9-913bb233ed9c",
   "metadata": {},
   "source": [
    "\n",
    "\n",
    "As the climate changes, predicting the weather becomes ever more important for businesses. Since the weather depends on a lot of different factors, you will want to run a lot of experiments to determine what the best approach is to predict the weather. In this project, you will run experiments for different regression models predicting the mean temperature, using a combination of `sklearn` and `MLflow`.\n",
    "\n",
    "You will be working with data stored in `london_weather.csv`, which contains the following columns:\n",
    "- **date** - recorded date of measurement - (**int**)\n",
    "- **cloud_cover** - cloud cover measurement in oktas - (**float**)\n",
    "- **sunshine** - sunshine measurement in hours (hrs) - (**float**)\n",
    "- **global_radiation** - irradiance measurement in Watt per square meter (W/m2) - (**float**)\n",
    "- **max_temp** - maximum temperature recorded in degrees Celsius (°C) - (**float**)\n",
    "- **mean_temp** - mean temperature in degrees Celsius (°C) - (**float**)\n",
    "- **min_temp** - minimum temperature recorded in degrees Celsius (°C) - (**float**)\n",
    "- **precipitation** - precipitation measurement in millimeters (mm) - (**float**)\n",
    "- **pressure** - pressure measurement in Pascals (Pa) - (**float**)\n",
    "- **snow_depth** - snow depth measurement in centimeters (cm) - (**float**)"
   ]
  },
  {
   "cell_type": "code",
   "execution_count": null,
   "id": "4ac85ad4-a7e9-43d0-9dae-b21026e32dfe",
   "metadata": {
    "executionCancelledAt": null,
    "executionTime": 53,
    "lastExecutedAt": 1742373181400,
    "lastExecutedByKernel": "b5b9281e-aea8-4fa6-9adb-657087632cbb",
    "lastScheduledRunId": null,
    "lastSuccessfullyExecutedCode": "# Run this cell to import the modules you require\nimport pandas as pd\nimport numpy as np\nimport mlflow\nimport mlflow.sklearn\nimport matplotlib.pyplot as plt\nimport seaborn as sns\nfrom sklearn.model_selection import train_test_split\nfrom sklearn.metrics import mean_squared_error\nfrom sklearn.impute import SimpleImputer\nfrom sklearn.preprocessing import StandardScaler\nfrom sklearn.linear_model import LinearRegression\nfrom sklearn.tree import DecisionTreeRegressor\nfrom sklearn.ensemble import RandomForestRegressor\n\n# Read in the data\nweather = pd.read_csv(\"london_weather.csv\")\n\n# Start coding here\nweather.head()",
    "outputsMetadata": {
     "0": {
      "height": 550,
      "tableState": {
       "quickFilterText": ""
      },
      "type": "dataFrame"
     }
    }
   },
   "outputs": [
    {
     "data": {
      "application/com.datacamp.data-table.v2+json": {
       "table": {
        "data": {
         "cloud_cover": [
          2,
          6,
          5,
          8,
          6
         ],
         "date": [
          19790101,
          19790102,
          19790103,
          19790104,
          19790105
         ],
         "global_radiation": [
          52,
          27,
          13,
          13,
          29
         ],
         "index": [
          0,
          1,
          2,
          3,
          4
         ],
         "max_temp": [
          2.3,
          1.6,
          1.3,
          -0.3,
          5.6
         ],
         "mean_temp": [
          -4.1,
          -2.6,
          -2.8,
          -2.6,
          -0.8
         ],
         "min_temp": [
          -7.5,
          -7.5,
          -7.2,
          -6.5,
          -1.4
         ],
         "precipitation": [
          0.4,
          0,
          0,
          0,
          0
         ],
         "pressure": [
          101900,
          102530,
          102050,
          100840,
          102250
         ],
         "snow_depth": [
          9,
          8,
          4,
          2,
          1
         ],
         "sunshine": [
          7,
          1.7,
          0,
          0,
          2
         ]
        },
        "schema": {
         "fields": [
          {
           "name": "index",
           "type": "integer"
          },
          {
           "name": "date",
           "type": "integer"
          },
          {
           "name": "cloud_cover",
           "type": "number"
          },
          {
           "name": "sunshine",
           "type": "number"
          },
          {
           "name": "global_radiation",
           "type": "number"
          },
          {
           "name": "max_temp",
           "type": "number"
          },
          {
           "name": "mean_temp",
           "type": "number"
          },
          {
           "name": "min_temp",
           "type": "number"
          },
          {
           "name": "precipitation",
           "type": "number"
          },
          {
           "name": "pressure",
           "type": "number"
          },
          {
           "name": "snow_depth",
           "type": "number"
          }
         ],
         "pandas_version": "1.4.0",
         "primaryKey": [
          "index"
         ]
        }
       },
       "total_rows": 5,
       "truncation_type": null
      },
      "text/html": [
       "<div>\n",
       "<style scoped>\n",
       "    .dataframe tbody tr th:only-of-type {\n",
       "        vertical-align: middle;\n",
       "    }\n",
       "\n",
       "    .dataframe tbody tr th {\n",
       "        vertical-align: top;\n",
       "    }\n",
       "\n",
       "    .dataframe thead th {\n",
       "        text-align: right;\n",
       "    }\n",
       "</style>\n",
       "<table border=\"1\" class=\"dataframe\">\n",
       "  <thead>\n",
       "    <tr style=\"text-align: right;\">\n",
       "      <th></th>\n",
       "      <th>date</th>\n",
       "      <th>cloud_cover</th>\n",
       "      <th>sunshine</th>\n",
       "      <th>global_radiation</th>\n",
       "      <th>max_temp</th>\n",
       "      <th>mean_temp</th>\n",
       "      <th>min_temp</th>\n",
       "      <th>precipitation</th>\n",
       "      <th>pressure</th>\n",
       "      <th>snow_depth</th>\n",
       "    </tr>\n",
       "  </thead>\n",
       "  <tbody>\n",
       "    <tr>\n",
       "      <th>0</th>\n",
       "      <td>19790101</td>\n",
       "      <td>2.0</td>\n",
       "      <td>7.0</td>\n",
       "      <td>52.0</td>\n",
       "      <td>2.3</td>\n",
       "      <td>-4.1</td>\n",
       "      <td>-7.5</td>\n",
       "      <td>0.4</td>\n",
       "      <td>101900.0</td>\n",
       "      <td>9.0</td>\n",
       "    </tr>\n",
       "    <tr>\n",
       "      <th>1</th>\n",
       "      <td>19790102</td>\n",
       "      <td>6.0</td>\n",
       "      <td>1.7</td>\n",
       "      <td>27.0</td>\n",
       "      <td>1.6</td>\n",
       "      <td>-2.6</td>\n",
       "      <td>-7.5</td>\n",
       "      <td>0.0</td>\n",
       "      <td>102530.0</td>\n",
       "      <td>8.0</td>\n",
       "    </tr>\n",
       "    <tr>\n",
       "      <th>2</th>\n",
       "      <td>19790103</td>\n",
       "      <td>5.0</td>\n",
       "      <td>0.0</td>\n",
       "      <td>13.0</td>\n",
       "      <td>1.3</td>\n",
       "      <td>-2.8</td>\n",
       "      <td>-7.2</td>\n",
       "      <td>0.0</td>\n",
       "      <td>102050.0</td>\n",
       "      <td>4.0</td>\n",
       "    </tr>\n",
       "    <tr>\n",
       "      <th>3</th>\n",
       "      <td>19790104</td>\n",
       "      <td>8.0</td>\n",
       "      <td>0.0</td>\n",
       "      <td>13.0</td>\n",
       "      <td>-0.3</td>\n",
       "      <td>-2.6</td>\n",
       "      <td>-6.5</td>\n",
       "      <td>0.0</td>\n",
       "      <td>100840.0</td>\n",
       "      <td>2.0</td>\n",
       "    </tr>\n",
       "    <tr>\n",
       "      <th>4</th>\n",
       "      <td>19790105</td>\n",
       "      <td>6.0</td>\n",
       "      <td>2.0</td>\n",
       "      <td>29.0</td>\n",
       "      <td>5.6</td>\n",
       "      <td>-0.8</td>\n",
       "      <td>-1.4</td>\n",
       "      <td>0.0</td>\n",
       "      <td>102250.0</td>\n",
       "      <td>1.0</td>\n",
       "    </tr>\n",
       "  </tbody>\n",
       "</table>\n",
       "</div>"
      ],
      "text/plain": [
       "       date  cloud_cover  sunshine  ...  precipitation  pressure  snow_depth\n",
       "0  19790101          2.0       7.0  ...            0.4  101900.0         9.0\n",
       "1  19790102          6.0       1.7  ...            0.0  102530.0         8.0\n",
       "2  19790103          5.0       0.0  ...            0.0  102050.0         4.0\n",
       "3  19790104          8.0       0.0  ...            0.0  100840.0         2.0\n",
       "4  19790105          6.0       2.0  ...            0.0  102250.0         1.0\n",
       "\n",
       "[5 rows x 10 columns]"
      ]
     },
     "execution_count": 41,
     "metadata": {
      "application/com.datacamp.data-table.v2+json": {
       "status": "success"
      }
     },
     "output_type": "execute_result"
    }
   ],
   "source": [
    "\n",
    "import pandas as pd\n",
    "import numpy as np\n",
    "import mlflow\n",
    "import mlflow.sklearn\n",
    "import matplotlib.pyplot as plt\n",
    "import seaborn as sns\n",
    "from sklearn.model_selection import train_test_split\n",
    "from sklearn.metrics import mean_squared_error\n",
    "from sklearn.impute import SimpleImputer\n",
    "from sklearn.preprocessing import StandardScaler\n",
    "from sklearn.linear_model import LinearRegression\n",
    "from sklearn.tree import DecisionTreeRegressor\n",
    "from sklearn.ensemble import RandomForestRegressor\n",
    "\n",
    "# Read in the data\n",
    "weather = pd.read_csv(\"london_weather.csv\")\n",
    "\n",
    "\n",
    "weather.head()"
   ]
  },
  {
   "cell_type": "code",
   "execution_count": null,
   "id": "655b624a-a5dd-4f14-9bab-dc694ad1bbed",
   "metadata": {
    "executionCancelledAt": null,
    "executionTime": 50,
    "lastExecutedAt": 1742373181450,
    "lastExecutedByKernel": "b5b9281e-aea8-4fa6-9adb-657087632cbb",
    "lastScheduledRunId": null,
    "lastSuccessfullyExecutedCode": "df_cleaned = weather.dropna()  # Menghapus baris yang mengandung NaN\nX = df_cleaned.drop(columns=[\"mean_temp\"])\ny = df_cleaned[\"mean_temp\"]\n"
   },
   "outputs": [],
   "source": [
    "df_cleaned = weather.dropna() \n",
    "X = df_cleaned.drop(columns=[\"mean_temp\"])\n",
    "y = df_cleaned[\"mean_temp\"]\n"
   ]
  },
  {
   "cell_type": "code",
   "execution_count": 43,
   "id": "1f8fffc8-831a-4410-96ee-a21f84cfcba7",
   "metadata": {
    "executionCancelledAt": null,
    "executionTime": 49,
    "lastExecutedAt": 1742373181499,
    "lastExecutedByKernel": "b5b9281e-aea8-4fa6-9adb-657087632cbb",
    "lastScheduledRunId": null,
    "lastSuccessfullyExecutedCode": "# weather.shape\nX.isna().sum()",
    "outputsMetadata": {
     "0": {
      "height": 550,
      "tableState": {
       "quickFilterText": ""
      },
      "type": "dataFrame"
     }
    }
   },
   "outputs": [
    {
     "data": {
      "application/com.datacamp.data-table.v2+json": {
       "table": {
        "data": {
         "0": [
          0,
          0,
          0,
          0,
          0,
          0,
          0,
          0,
          0
         ],
         "index": [
          "date",
          "cloud_cover",
          "sunshine",
          "global_radiation",
          "max_temp",
          "min_temp",
          "precipitation",
          "pressure",
          "snow_depth"
         ]
        },
        "schema": {
         "fields": [
          {
           "name": "index",
           "type": "string"
          },
          {
           "name": "0",
           "type": "integer"
          }
         ],
         "pandas_version": "1.4.0",
         "primaryKey": [
          "index"
         ]
        }
       },
       "total_rows": 9,
       "truncation_type": null
      },
      "text/plain": [
       "date                0\n",
       "cloud_cover         0\n",
       "sunshine            0\n",
       "global_radiation    0\n",
       "max_temp            0\n",
       "min_temp            0\n",
       "precipitation       0\n",
       "pressure            0\n",
       "snow_depth          0\n",
       "dtype: int64"
      ]
     },
     "execution_count": 43,
     "metadata": {
      "application/com.datacamp.data-table.v2+json": {
       "status": "success"
      }
     },
     "output_type": "execute_result"
    }
   ],
   "source": [
    "# weather.shape\n",
    "X.isna().sum()"
   ]
  },
  {
   "cell_type": "code",
   "execution_count": 44,
   "id": "b0e3d239-da8d-4c94-a2ec-27ffa401253d",
   "metadata": {
    "executionCancelledAt": null,
    "executionTime": 55,
    "lastExecutedAt": 1742373181554,
    "lastExecutedByKernel": "b5b9281e-aea8-4fa6-9adb-657087632cbb",
    "lastScheduledRunId": null,
    "lastSuccessfullyExecutedCode": "X_train, X_test, y_train, y_test = train_test_split(X, y, test_size=0.2, random_state=42)"
   },
   "outputs": [],
   "source": [
    "X_train, X_test, y_train, y_test = train_test_split(X, y, test_size=0.2, random_state=42)"
   ]
  },
  {
   "cell_type": "code",
   "execution_count": 45,
   "id": "fe663e1b-ad5b-4c25-88e6-4ee827a932d4",
   "metadata": {
    "executionCancelledAt": null,
    "executionTime": 56,
    "lastExecutedAt": 1742373181610,
    "lastExecutedByKernel": "b5b9281e-aea8-4fa6-9adb-657087632cbb",
    "lastScheduledRunId": null,
    "lastSuccessfullyExecutedCode": "scaler = StandardScaler()\nX_train_scaled = scaler.fit_transform(X_train)\nX_test_scaled = scaler.transform(X_test)"
   },
   "outputs": [],
   "source": [
    "scaler = StandardScaler()\n",
    "X_train_scaled = scaler.fit_transform(X_train)\n",
    "X_test_scaled = scaler.transform(X_test)"
   ]
  },
  {
   "cell_type": "code",
   "execution_count": 46,
   "id": "c4be9357-5adf-465c-a692-ae7b8f22bb80",
   "metadata": {
    "executionCancelledAt": null,
    "executionTime": 52,
    "lastExecutedAt": 1742373181662,
    "lastExecutedByKernel": "b5b9281e-aea8-4fa6-9adb-657087632cbb",
    "lastScheduledRunId": null,
    "lastSuccessfullyExecutedCode": "models = {\n    \"LinearRegression\": LinearRegression(),\n    \"RandomForestRegressor\": RandomForestRegressor(n_estimators=100, random_state=42),\n    \"DecisionTreeRegressor\": DecisionTreeRegressor()\n}"
   },
   "outputs": [],
   "source": [
    "models = {\n",
    "    \"LinearRegression\": LinearRegression(),\n",
    "    \"RandomForestRegressor\": RandomForestRegressor(n_estimators=100, random_state=42),\n",
    "    \"DecisionTreeRegressor\": DecisionTreeRegressor()\n",
    "}"
   ]
  },
  {
   "cell_type": "code",
   "execution_count": 47,
   "id": "6e25886e-b29e-480d-88bf-a74e3decb87d",
   "metadata": {
    "executionCancelledAt": null,
    "executionTime": 130,
    "lastExecutedAt": 1742373181793,
    "lastExecutedByKernel": "b5b9281e-aea8-4fa6-9adb-657087632cbb",
    "lastScheduledRunId": null,
    "lastSuccessfullyExecutedCode": "model = LinearRegression()\n\n\nmodel.fit(X_train_scaled, y_train)\n\n\npred = model.predict(X_test_scaled)\n\nmse = mean_squared_error(y_test, pred)\nrmse = np.sqrt(mse)\nprint(f\"Mean Squared Error: {mse}\")\nprint(f\"Root Mean Squared Error: {rmse}\")",
    "outputsMetadata": {
     "0": {
      "height": 59,
      "type": "stream"
     }
    }
   },
   "outputs": [
    {
     "name": "stdout",
     "output_type": "stream",
     "text": [
      "Mean Squared Error: 0.8121621069635554\n",
      "Root Mean Squared Error: 0.9012003700418434\n"
     ]
    }
   ],
   "source": [
    "model = LinearRegression()\n",
    "\n",
    "\n",
    "model.fit(X_train_scaled, y_train)\n",
    "\n",
    "\n",
    "pred = model.predict(X_test_scaled)\n",
    "\n",
    "mse = mean_squared_error(y_test, pred)\n",
    "rmse = np.sqrt(mse)\n",
    "print(f\"Mean Squared Error: {mse}\")\n",
    "print(f\"Root Mean Squared Error: {rmse}\")"
   ]
  },
  {
   "cell_type": "code",
   "execution_count": 48,
   "id": "fd7c59f9-ce0b-40d3-bee3-9257fc977b23",
   "metadata": {
    "executionCancelledAt": null,
    "executionTime": 14913,
    "lastExecutedAt": 1742373196706,
    "lastExecutedByKernel": "b5b9281e-aea8-4fa6-9adb-657087632cbb",
    "lastScheduledRunId": null,
    "lastSuccessfullyExecutedCode": "\nmlflow.set_experiment(\"London_Weather_Prediction\")\n\nbest_rmse = float(\"inf\")\nbest_model_name = None\n\nfor model_name, model in models.items():\n    with mlflow.start_run():\n        model.fit(X_train_scaled, y_train)\n        y_pred = model.predict(X_test_scaled)\n\n       \n        rmse = np.sqrt(mean_squared_error(y_test, y_pred))\n\n      \n        mlflow.log_param(\"model_name\", model_name)\n        mlflow.log_metric(\"rmse\", rmse)\n        mlflow.sklearn.log_model(model, model_name)\n\n        print(f\"{model_name} - RMSE: {rmse:.3f}\")\n\n        if rmse < best_rmse:\n            best_rmse = rmse\n            best_model_name = model_name\n\nprint(f\"\\nBest Model: {best_model_name} RMSE: {best_rmse:.3f}\")\n",
    "outputsMetadata": {
     "0": {
      "height": 122,
      "type": "stream"
     },
     "1": {
      "height": 122,
      "type": "stream"
     }
    }
   },
   "outputs": [
    {
     "name": "stdout",
     "output_type": "stream",
     "text": [
      "LinearRegression - RMSE: 0.901\n",
      "RandomForestRegressor - RMSE: 0.884\n",
      "DecisionTreeRegressor - RMSE: 1.267\n",
      "\n",
      "Best Model: RandomForestRegressor RMSE: 0.884\n"
     ]
    }
   ],
   "source": [
    "\n",
    "mlflow.set_experiment(\"London_Weather_Prediction\")\n",
    "\n",
    "best_rmse = float(\"inf\")\n",
    "best_model_name = None\n",
    "\n",
    "for model_name, model in models.items():\n",
    "    with mlflow.start_run():\n",
    "        model.fit(X_train_scaled, y_train)\n",
    "        y_pred = model.predict(X_test_scaled)\n",
    "\n",
    "       \n",
    "        rmse = np.sqrt(mean_squared_error(y_test, y_pred))\n",
    "\n",
    "      \n",
    "        mlflow.log_param(\"model_name\", model_name)\n",
    "        mlflow.log_metric(\"rmse\", rmse)\n",
    "        mlflow.sklearn.log_model(model, model_name)\n",
    "\n",
    "        print(f\"{model_name} - RMSE: {rmse:.3f}\")\n",
    "\n",
    "        if rmse < best_rmse:\n",
    "            best_rmse = rmse\n",
    "            best_model_name = model_name\n",
    "\n",
    "print(f\"\\nBest Model: {best_model_name} RMSE: {best_rmse:.3f}\")\n"
   ]
  },
  {
   "cell_type": "code",
   "execution_count": 49,
   "id": "282337df-81f2-4248-bcee-e9acafd5f6bb",
   "metadata": {
    "executionCancelledAt": null,
    "executionTime": 903,
    "lastExecutedAt": 1742373197609,
    "lastExecutedByKernel": "b5b9281e-aea8-4fa6-9adb-657087632cbb",
    "lastScheduledRunId": null,
    "lastSuccessfullyExecutedCode": "import mlflow\n\n\nexperiment_results = mlflow.search_runs()\n\n\nprint(experiment_results)\n",
    "outputsMetadata": {
     "0": {
      "height": 269,
      "type": "stream"
     }
    }
   },
   "outputs": [
    {
     "name": "stdout",
     "output_type": "stream",
     "text": [
      "                             run_id  ...                      tags.mlflow.log-model.history\n",
      "0  1815758e5ccd406aac7a9de5a56ef8d7  ...  [{\"run_id\": \"1815758e5ccd406aac7a9de5a56ef8d7\"...\n",
      "1  4ee9468acfc14c339f44089da007e4c6  ...  [{\"run_id\": \"4ee9468acfc14c339f44089da007e4c6\"...\n",
      "2  446e687f9fbc488aa81faf2e6caafd1e  ...  [{\"run_id\": \"446e687f9fbc488aa81faf2e6caafd1e\"...\n",
      "3  b34a535e8ee541f3b25aab69aa45a5a2  ...  [{\"run_id\": \"b34a535e8ee541f3b25aab69aa45a5a2\"...\n",
      "4  e23d85cef88d49e8b69a95e4ad98cd0f  ...  [{\"run_id\": \"e23d85cef88d49e8b69a95e4ad98cd0f\"...\n",
      "5  a1d299845860472da6988067dab28ea5  ...  [{\"run_id\": \"a1d299845860472da6988067dab28ea5\"...\n",
      "6  de25a455376041a0b4c1de663c983c45  ...  [{\"run_id\": \"de25a455376041a0b4c1de663c983c45\"...\n",
      "7  89be2c03fe28482e950933cc1855f9ce  ...  [{\"run_id\": \"89be2c03fe28482e950933cc1855f9ce\"...\n",
      "8  1e71a9ea99e842f9b9b10d37b73252c5  ...  [{\"run_id\": \"1e71a9ea99e842f9b9b10d37b73252c5\"...\n",
      "\n",
      "[9 rows x 13 columns]\n"
     ]
    }
   ],
   "source": [
    "import mlflow\n",
    "\n",
    "\n",
    "experiment_results = mlflow.search_runs()\n",
    "\n",
    "\n",
    "print(experiment_results)\n"
   ]
  }
 ],
 "metadata": {
  "colab": {
   "name": "Welcome to DataCamp Workspaces.ipynb",
   "provenance": []
  },
  "kernelspec": {
   "display_name": "Python 3 (ipykernel)",
   "language": "python",
   "name": "python3"
  },
  "language_info": {
   "codemirror_mode": {
    "name": "ipython",
    "version": 3
   },
   "file_extension": ".py",
   "mimetype": "text/x-python",
   "name": "python",
   "nbconvert_exporter": "python",
   "pygments_lexer": "ipython3",
   "version": "3.8.10"
  }
 },
 "nbformat": 4,
 "nbformat_minor": 5
}
